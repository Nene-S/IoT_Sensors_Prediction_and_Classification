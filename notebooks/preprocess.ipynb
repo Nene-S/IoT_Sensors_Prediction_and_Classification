{
 "cells": [
  {
   "cell_type": "code",
   "execution_count": 1,
   "id": "1798e2ec",
   "metadata": {},
   "outputs": [],
   "source": [
    "# Add folder to path in order to load from the check_packages.py script\n",
    "import sys\n",
    "sys.path.insert(0, \"..\")"
   ]
  },
  {
   "cell_type": "code",
   "execution_count": 2,
   "id": "0c3da8da",
   "metadata": {},
   "outputs": [],
   "source": [
    "import os\n",
    "import json\n",
    "import pandas as pd\n",
    "import pathlib\n",
    "import seaborn as sns\n",
    "import matplotlib.pyplot as plt\n",
    "import numpy as np\n",
    "from datetime import datetime\n",
    "from sklearn.model_selection import train_test_split\n",
    "from sklearn.preprocessing import MinMaxScaler, LabelEncoder, StandardScaler\n",
    "from imblearn.over_sampling import BorderlineSMOTE"
   ]
  },
  {
   "cell_type": "code",
   "execution_count": 3,
   "id": "f9998ce2",
   "metadata": {},
   "outputs": [
    {
     "name": "stdout",
     "output_type": "stream",
     "text": [
      "C:\\Users\\Nene\\iot_sensors_prediction_classification\\notebooks\n",
      "C:\\Users\\Nene\\iot_sensors_prediction_classification\n"
     ]
    }
   ],
   "source": [
    "print(os.getcwd())\n",
    "# Going up one directory from current (notebooks) to the project root\n",
    "os.chdir(\"..\")\n",
    "print(os.getcwd())"
   ]
  },
  {
   "cell_type": "code",
   "execution_count": 61,
   "id": "290d15fe",
   "metadata": {},
   "outputs": [],
   "source": [
    "with open(\"config.json\", \"r\") as file:\n",
    "    config = json.load(file)"
   ]
  },
  {
   "cell_type": "code",
   "execution_count": 67,
   "id": "1db6cdfa",
   "metadata": {},
   "outputs": [],
   "source": [
    "# Utility functions\n",
    "def load_data(path):\n",
    "    data = {}\n",
    "    \n",
    "    for folder in os.listdir(path):\n",
    "        if folder == \"Not using\":\n",
    "            continue\n",
    "            \n",
    "        if folder == \"clean\":\n",
    "            cur_folder = pathlib.Path(os.path.join(path, folder))\n",
    "            all_files_path = list(cur_folder.glob(\"*.txt\"))\n",
    "            dfs = [] \n",
    "            for file_path in all_files_path:\n",
    "                try:\n",
    "                    df = pd.read_csv(file_path, sep=None, engine=\"python\")\n",
    "                    dfs.append(df)\n",
    "                except Exception as e:\n",
    "                    print(f\" Error reading '{file_path}': {e}\")\n",
    "            if dfs:\n",
    "                data[folder]= pd.concat(dfs, ignore_index=True)\n",
    "        \n",
    "        else:\n",
    "            cur_folder = pathlib.Path(os.path.join(path, folder))\n",
    "            if not os.path.exists(cur_folder):\n",
    "                print(f\" Skipping '{cur_folder}' (Not found)\")\n",
    "                continue\n",
    "\n",
    "            all_files_path = list(cur_folder.glob(\"*.txt\"))\n",
    "            temp_files = [file for file in all_files_path if \"sensortype=temperature\" in file.name]\n",
    "            dfs = [] \n",
    "            for file_path in temp_files:\n",
    "                try:\n",
    "                    df = pd.read_csv(file_path, sep=None, engine=\"python\")\n",
    "                    dfs.append(df)\n",
    "                except Exception as e:\n",
    "                    print(f\" Error reading '{file_path}': {e}\")\n",
    "            if dfs:\n",
    "                data[folder]= pd.concat(dfs, ignore_index=True)\n",
    "\n",
    "    return data\n",
    "\n",
    "\n",
    "def merge_data(dataset):\n",
    "    conditions = list(dataset.keys())\n",
    "    combined_df = pd.concat([dataset[cond] for cond in conditions], ignore_index=True)\n",
    "\n",
    "\n",
    "    return combined_df\n",
    "\n",
    "\n",
    "def create_sequence(df, group_by, window_size=6, horizon=4):\n",
    "    X_encoder_num = []\n",
    "    X_encoder_cat = []\n",
    "\n",
    "    X_decoder_input_num = []\n",
    "    X_decoder_input_cat = [] \n",
    "\n",
    "    y_decoder_output = []\n",
    "\n",
    "    for mote in df[group_by].unique():\n",
    "        mote_df = df[df[group_by] == mote].copy()\n",
    "\n",
    "        data_array = mote_df.values\n",
    "\n",
    "        for i in range(len(data_array) - window_size - horizon + 1):\n",
    "            encoder_seq = data_array[i : i + window_size]\n",
    "            X_encoder_num.append(encoder_seq[:, 0])\n",
    "            X_encoder_cat.append(encoder_seq[:, 1:])\n",
    "\n",
    "            decoder_input_temp_seq = []\n",
    "            decoder_input_cat_seq = []\n",
    "            target_seq = []\n",
    "\n",
    "            for j in range(horizon):\n",
    "                if j == 0:\n",
    "                    lagged_temp = data_array[i + window_size-1, 0]\n",
    "                else:\n",
    "                    lagged_temp = data_array[i + window_size + j - 1, 0]\n",
    "\n",
    "                # categorical features for future values:\n",
    "                future_cat_features = data_array[i + window_size + j, 1:]\n",
    "\n",
    "                decoder_input_temp_seq.append(lagged_temp)\n",
    "                decoder_input_cat_seq.append(future_cat_features)\n",
    "\n",
    "                target_step = data_array[i + window_size + j, 0]\n",
    "                target_seq.append(target_step)\n",
    "\n",
    "            X_decoder_input_num.append(np.array(decoder_input_temp_seq))\n",
    "            X_decoder_input_cat.append(np.array(decoder_input_cat_seq))\n",
    "            y_decoder_output.append(np.array(target_seq))\n",
    "            \n",
    "    X_encoder_num = np.array(X_encoder_num).reshape(-1, window_size, 1)\n",
    "    X_encoder_cat = np.array(X_encoder_cat).reshape(-1, window_size, 1) \n",
    "    X_decoder_input_num = np.array(X_decoder_input_num).reshape(-1, horizon, 1)\n",
    "    X_decoder_input_cat = np.array(X_decoder_input_cat).reshape(-1, horizon, 1)\n",
    "    y_decoder_output = np.array(y_decoder_output).reshape(-1, horizon, 1)\n",
    "            \n",
    "    return X_encoder_num, X_encoder_cat, X_decoder_input_num, X_decoder_input_cat, y_decoder_output\n",
    "\n"
   ]
  },
  {
   "cell_type": "markdown",
   "id": "1b43165f",
   "metadata": {},
   "source": [
    "# EDA, Preprocessing and Feature Engineering for the CNN-LSTM System Data"
   ]
  },
  {
   "cell_type": "code",
   "execution_count": 18,
   "id": "42439647",
   "metadata": {},
   "outputs": [],
   "source": [
    "data = load_data(config[\"inter_data_path\"])"
   ]
  },
  {
   "cell_type": "code",
   "execution_count": 19,
   "id": "a2a506d6",
   "metadata": {},
   "outputs": [],
   "source": [
    "all_data = merge_data(data)"
   ]
  },
  {
   "cell_type": "code",
   "execution_count": 20,
   "id": "be036e52",
   "metadata": {},
   "outputs": [
    {
     "data": {
      "text/plain": [
       "1008000"
      ]
     },
     "execution_count": 20,
     "metadata": {},
     "output_type": "execute_result"
    }
   ],
   "source": [
    "len(all_data)"
   ]
  },
  {
   "cell_type": "code",
   "execution_count": 21,
   "id": "29a65d69",
   "metadata": {},
   "outputs": [
    {
     "data": {
      "text/html": [
       "<div>\n",
       "<style scoped>\n",
       "    .dataframe tbody tr th:only-of-type {\n",
       "        vertical-align: middle;\n",
       "    }\n",
       "\n",
       "    .dataframe tbody tr th {\n",
       "        vertical-align: top;\n",
       "    }\n",
       "\n",
       "    .dataframe thead th {\n",
       "        text-align: right;\n",
       "    }\n",
       "</style>\n",
       "<table border=\"1\" class=\"dataframe\">\n",
       "  <thead>\n",
       "    <tr style=\"text-align: right;\">\n",
       "      <th></th>\n",
       "      <th>timestamp</th>\n",
       "      <th>mote_id</th>\n",
       "      <th>has_fault_type</th>\n",
       "      <th>temperature</th>\n",
       "      <th>light</th>\n",
       "    </tr>\n",
       "  </thead>\n",
       "  <tbody>\n",
       "    <tr>\n",
       "      <th>0</th>\n",
       "      <td>'2004-02-29T00:00:00'</td>\n",
       "      <td>1</td>\n",
       "      <td>0</td>\n",
       "      <td>19.2600</td>\n",
       "      <td>45.08</td>\n",
       "    </tr>\n",
       "    <tr>\n",
       "      <th>1</th>\n",
       "      <td>'2004-02-29T00:00:30'</td>\n",
       "      <td>1</td>\n",
       "      <td>0</td>\n",
       "      <td>19.2500</td>\n",
       "      <td>45.08</td>\n",
       "    </tr>\n",
       "    <tr>\n",
       "      <th>2</th>\n",
       "      <td>'2004-02-29T00:01:00'</td>\n",
       "      <td>1</td>\n",
       "      <td>0</td>\n",
       "      <td>19.2500</td>\n",
       "      <td>45.08</td>\n",
       "    </tr>\n",
       "    <tr>\n",
       "      <th>3</th>\n",
       "      <td>'2004-02-29T00:01:30'</td>\n",
       "      <td>1</td>\n",
       "      <td>0</td>\n",
       "      <td>19.2436</td>\n",
       "      <td>45.08</td>\n",
       "    </tr>\n",
       "    <tr>\n",
       "      <th>4</th>\n",
       "      <td>'2004-02-29T00:02:00'</td>\n",
       "      <td>1</td>\n",
       "      <td>0</td>\n",
       "      <td>19.2400</td>\n",
       "      <td>45.08</td>\n",
       "    </tr>\n",
       "  </tbody>\n",
       "</table>\n",
       "</div>"
      ],
      "text/plain": [
       "               timestamp  mote_id  has_fault_type  temperature  light\n",
       "0  '2004-02-29T00:00:00'        1               0      19.2600  45.08\n",
       "1  '2004-02-29T00:00:30'        1               0      19.2500  45.08\n",
       "2  '2004-02-29T00:01:00'        1               0      19.2500  45.08\n",
       "3  '2004-02-29T00:01:30'        1               0      19.2436  45.08\n",
       "4  '2004-02-29T00:02:00'        1               0      19.2400  45.08"
      ]
     },
     "execution_count": 21,
     "metadata": {},
     "output_type": "execute_result"
    }
   ],
   "source": [
    "all_data.head()"
   ]
  },
  {
   "cell_type": "code",
   "execution_count": 19,
   "id": "38e96b96",
   "metadata": {},
   "outputs": [
    {
     "name": "stdout",
     "output_type": "stream",
     "text": [
      "Start Date: 2004-02-29 00:00:00\n",
      "End Date: 2004-03-06 23:59:30\n",
      "Time period: 6 days 23:59:30\n"
     ]
    }
   ],
   "source": [
    "start_date, end_date = all_data[\"timestamp\"].min(), all_data[\"timestamp\"].max()\n",
    "print(\"Start Date:\", start_date)\n",
    "print(\"End Date:\", end_date)\n",
    "print(\"Time period:\", end_date - start_date )\n",
    "\n",
    "# we have 6days 23h+(aprox 7days) what of data, spaced at 30 seconds"
   ]
  },
  {
   "cell_type": "code",
   "execution_count": 22,
   "id": "2a2a250e",
   "metadata": {},
   "outputs": [
    {
     "data": {
      "text/plain": [
       "1     100800\n",
       "4     100800\n",
       "6     100800\n",
       "19    100800\n",
       "22    100800\n",
       "23    100800\n",
       "29    100800\n",
       "33    100800\n",
       "34    100800\n",
       "45    100800\n",
       "Name: mote_id, dtype: int64"
      ]
     },
     "execution_count": 22,
     "metadata": {},
     "output_type": "execute_result"
    }
   ],
   "source": [
    "all_data.mote_id.value_counts()"
   ]
  },
  {
   "cell_type": "code",
   "execution_count": 23,
   "id": "328b93d8",
   "metadata": {},
   "outputs": [],
   "source": [
    "# Removes leading and trailing whitespace, double quotes, single quotes\n",
    "all_data[\"timestamp\"] = all_data[\"timestamp\"].str.strip().str.replace('\"', '').str.replace(\"'\", '')\n",
    "\n",
    "# convert 'timestamp' to datetime\n",
    "all_data[\"timestamp\"] = pd.to_datetime(all_data.timestamp, format=\"%Y-%m-%dT%H:%M:%S\")"
   ]
  },
  {
   "cell_type": "code",
   "execution_count": 38,
   "id": "76af1d3e",
   "metadata": {
    "scrolled": true
   },
   "outputs": [],
   "source": [
    "# # Temperatures plot for each sensors to see the multi_time_series trend\n",
    "# fig = plt.figure(figsize=(12, 8))\n",
    "# mote_ids = all_data.mote_id.unique()\n",
    "# for m_id in mote_ids:\n",
    "#     sensor_data = all_data[all_data[\"mote_id\"] == m_id]\n",
    "#     plt.plot(sensor_data[\"timestamp\"], sensor_data[\"temperature\"], label=str(m_id))\n",
    "\n",
    "# plt.legend(loc=\"best\")         \n",
    "# plt.ylabel(\"Temperature\")         \n",
    "# plt.xlabel(\"Date\")                \n",
    "# plt.title(\"Temperature Over Time for Each Sensor\")\n",
    "# plt.tight_layout()\n",
    "# plt.show()"
   ]
  },
  {
   "cell_type": "code",
   "execution_count": 26,
   "id": "73881f5a",
   "metadata": {},
   "outputs": [],
   "source": [
    "all_data[\"hour_of_day\"] = all_data[\"timestamp\"].dt.hour"
   ]
  },
  {
   "cell_type": "code",
   "execution_count": 28,
   "id": "0823a6d7",
   "metadata": {},
   "outputs": [],
   "source": [
    "# Create an intereaction feature between mote_id and fault_type\n",
    "all_data[\"mote_fault\"] = all_data[\"mote_id\"].astype(str) + \"_\" + all_data[\"has_fault_type\"].astype(str)\n",
    "all_data[\"mote_fault\"] = all_data[\"mote_fault\"].astype(int)"
   ]
  },
  {
   "cell_type": "code",
   "execution_count": 31,
   "id": "14010bb4",
   "metadata": {},
   "outputs": [
    {
     "data": {
      "text/plain": [
       "50"
      ]
     },
     "execution_count": 31,
     "metadata": {},
     "output_type": "execute_result"
    }
   ],
   "source": [
    "# all_data.mote_fault.unique()\n",
    "all_data.mote_fault.nunique()"
   ]
  },
  {
   "cell_type": "code",
   "execution_count": 35,
   "id": "3f4298d7",
   "metadata": {},
   "outputs": [
    {
     "data": {
      "text/html": [
       "<div>\n",
       "<style scoped>\n",
       "    .dataframe tbody tr th:only-of-type {\n",
       "        vertical-align: middle;\n",
       "    }\n",
       "\n",
       "    .dataframe tbody tr th {\n",
       "        vertical-align: top;\n",
       "    }\n",
       "\n",
       "    .dataframe thead th {\n",
       "        text-align: right;\n",
       "    }\n",
       "</style>\n",
       "<table border=\"1\" class=\"dataframe\">\n",
       "  <thead>\n",
       "    <tr style=\"text-align: right;\">\n",
       "      <th></th>\n",
       "      <th>timestamp</th>\n",
       "      <th>mote_id</th>\n",
       "      <th>has_fault_type</th>\n",
       "      <th>temperature</th>\n",
       "      <th>light</th>\n",
       "      <th>hour_of_day</th>\n",
       "      <th>mote_fault</th>\n",
       "    </tr>\n",
       "  </thead>\n",
       "  <tbody>\n",
       "    <tr>\n",
       "      <th>0</th>\n",
       "      <td>2004-02-29 00:00:00</td>\n",
       "      <td>1</td>\n",
       "      <td>0</td>\n",
       "      <td>19.2600</td>\n",
       "      <td>45.08</td>\n",
       "      <td>0</td>\n",
       "      <td>1_0</td>\n",
       "    </tr>\n",
       "    <tr>\n",
       "      <th>1</th>\n",
       "      <td>2004-02-29 00:00:30</td>\n",
       "      <td>1</td>\n",
       "      <td>0</td>\n",
       "      <td>19.2500</td>\n",
       "      <td>45.08</td>\n",
       "      <td>0</td>\n",
       "      <td>1_0</td>\n",
       "    </tr>\n",
       "    <tr>\n",
       "      <th>2</th>\n",
       "      <td>2004-02-29 00:01:00</td>\n",
       "      <td>1</td>\n",
       "      <td>0</td>\n",
       "      <td>19.2500</td>\n",
       "      <td>45.08</td>\n",
       "      <td>0</td>\n",
       "      <td>1_0</td>\n",
       "    </tr>\n",
       "    <tr>\n",
       "      <th>3</th>\n",
       "      <td>2004-02-29 00:01:30</td>\n",
       "      <td>1</td>\n",
       "      <td>0</td>\n",
       "      <td>19.2436</td>\n",
       "      <td>45.08</td>\n",
       "      <td>0</td>\n",
       "      <td>1_0</td>\n",
       "    </tr>\n",
       "    <tr>\n",
       "      <th>4</th>\n",
       "      <td>2004-02-29 00:02:00</td>\n",
       "      <td>1</td>\n",
       "      <td>0</td>\n",
       "      <td>19.2400</td>\n",
       "      <td>45.08</td>\n",
       "      <td>0</td>\n",
       "      <td>1_0</td>\n",
       "    </tr>\n",
       "  </tbody>\n",
       "</table>\n",
       "</div>"
      ],
      "text/plain": [
       "            timestamp  mote_id  has_fault_type  temperature  light  \\\n",
       "0 2004-02-29 00:00:00        1               0      19.2600  45.08   \n",
       "1 2004-02-29 00:00:30        1               0      19.2500  45.08   \n",
       "2 2004-02-29 00:01:00        1               0      19.2500  45.08   \n",
       "3 2004-02-29 00:01:30        1               0      19.2436  45.08   \n",
       "4 2004-02-29 00:02:00        1               0      19.2400  45.08   \n",
       "\n",
       "   hour_of_day mote_fault  \n",
       "0            0        1_0  \n",
       "1            0        1_0  \n",
       "2            0        1_0  \n",
       "3            0        1_0  \n",
       "4            0        1_0  "
      ]
     },
     "execution_count": 35,
     "metadata": {},
     "output_type": "execute_result"
    }
   ],
   "source": [
    "all_data.head()"
   ]
  },
  {
   "cell_type": "code",
   "execution_count": 39,
   "id": "2f51a6d9",
   "metadata": {},
   "outputs": [],
   "source": [
    "# Cyclic feature encoding\n",
    "hours_in_a_day = 24\n",
    "all_data[\"hour_sin\"] = np.sin(2*np.pi* all_data.hour_of_day/hours_in_a_day)\n",
    "all_data[\"hour_cos\"] = np.cos(2*np.pi* all_data.hour_of_day/hours_in_a_day)"
   ]
  },
  {
   "cell_type": "code",
   "execution_count": 42,
   "id": "80356f09",
   "metadata": {},
   "outputs": [
    {
     "data": {
      "text/plain": [
       "Text(0.5, 1.0, 'Hour Encoding (Sin vs Cos)')"
      ]
     },
     "execution_count": 42,
     "metadata": {},
     "output_type": "execute_result"
    },
    {
     "data": {
      "image/png": "[encoded data removed]",
      "text/plain": [
       "<Figure size 400x400 with 1 Axes>"
      ]
     },
     "metadata": {},
     "output_type": "display_data"
    }
   ],
   "source": [
    "fig = plt.figure(figsize=(4, 4))\n",
    "sns.scatterplot(x=all_data.hour_sin, y=all_data.hour_cos, color=\"dodgerblue\")\n",
    "plt.title(\"Hour Encoding (Sin vs Cos)\")"
   ]
  },
  {
   "cell_type": "code",
   "execution_count": 50,
   "id": "58c07e5d",
   "metadata": {},
   "outputs": [
    {
     "data": {
      "image/png": "[encoded data removed]",
      "text/plain": [
       "<Figure size 800x600 with 2 Axes>"
      ]
     },
     "metadata": {},
     "output_type": "display_data"
    }
   ],
   "source": [
    "# correlation matrix\n",
    "f, ax = plt.subplots(figsize=(8, 6))\n",
    "\n",
    "columns = [\"temperature\", \"mote_id\", \"hour_sin\",\"hour_cos\", \n",
    "         \"has_fault_type\",\"mote_fault\"]\n",
    "\n",
    "corrmat = all_data[columns].corr()\n",
    "\n",
    "sns.heatmap(corrmat, annot=True, vmin=-1, vmax=1, cmap=\"coolwarm_r\", ax=ax)\n",
    "ax.set_title(\"Correlation Matrix of the Features\", fontsize=16)\n",
    "\n",
    "\n",
    "plt.tight_layout()\n",
    "plt.show()"
   ]
  },
  {
   "cell_type": "code",
   "execution_count": 51,
   "id": "15aacd33",
   "metadata": {},
   "outputs": [
    {
     "name": "stdout",
     "output_type": "stream",
     "text": [
      "                temperature\n",
      "temperature        1.000000\n",
      "has_fault_type     0.753056\n",
      "mote_fault         0.661294\n",
      "hour_sin          -0.002912\n",
      "mote_id           -0.003999\n",
      "hour_cos          -0.038174\n"
     ]
    }
   ],
   "source": [
    "target = \"temperature\"\n",
    "corrmat_sorted = corrmat[[target]].sort_values(by=target, ascending=False)\n",
    "print(corrmat_sorted)"
   ]
  },
  {
   "cell_type": "code",
   "execution_count": 52,
   "id": "df441c35",
   "metadata": {},
   "outputs": [],
   "source": [
    "# Categorical Feature Encoding using LabelEncoder\n",
    "le_mote_id = LabelEncoder()\n",
    "le_fault_type = LabelEncoder()\n",
    "le_mote_fault = LabelEncoder()\n",
    "\n",
    "all_data[\"mote_id_encoded\"] = le_mote_id.fit_transform(all_data[\"mote_id\"])\n",
    "all_data[\"fault_type_encoded\"] = le_fault_type.fit_transform(all_data[\"has_fault_type\"])\n",
    "all_data[\"mote_fault_encoded\"] = le_mote_fault.fit_transform(all_data[\"mote_fault\"])"
   ]
  },
  {
   "cell_type": "code",
   "execution_count": 56,
   "id": "b5772815",
   "metadata": {},
   "outputs": [
    {
     "data": {
      "text/html": [
       "<div>\n",
       "<style scoped>\n",
       "    .dataframe tbody tr th:only-of-type {\n",
       "        vertical-align: middle;\n",
       "    }\n",
       "\n",
       "    .dataframe tbody tr th {\n",
       "        vertical-align: top;\n",
       "    }\n",
       "\n",
       "    .dataframe thead th {\n",
       "        text-align: right;\n",
       "    }\n",
       "</style>\n",
       "<table border=\"1\" class=\"dataframe\">\n",
       "  <thead>\n",
       "    <tr style=\"text-align: right;\">\n",
       "      <th></th>\n",
       "      <th>timestamp</th>\n",
       "      <th>mote_id</th>\n",
       "      <th>has_fault_type</th>\n",
       "      <th>temperature</th>\n",
       "      <th>light</th>\n",
       "      <th>hour_of_day</th>\n",
       "      <th>mote_fault</th>\n",
       "      <th>hour_sin</th>\n",
       "      <th>hour_cos</th>\n",
       "      <th>mote_id_encoded</th>\n",
       "      <th>fault_type_encoded</th>\n",
       "      <th>mote_fault_encoded</th>\n",
       "    </tr>\n",
       "  </thead>\n",
       "  <tbody>\n",
       "    <tr>\n",
       "      <th>791688</th>\n",
       "      <td>2004-03-01 21:24:00</td>\n",
       "      <td>6</td>\n",
       "      <td>0</td>\n",
       "      <td>20.4390</td>\n",
       "      <td>20.24</td>\n",
       "      <td>21</td>\n",
       "      <td>60</td>\n",
       "      <td>-0.707107</td>\n",
       "      <td>0.707107</td>\n",
       "      <td>2</td>\n",
       "      <td>0</td>\n",
       "      <td>8</td>\n",
       "    </tr>\n",
       "    <tr>\n",
       "      <th>578747</th>\n",
       "      <td>2004-03-04 22:53:30</td>\n",
       "      <td>4</td>\n",
       "      <td>8</td>\n",
       "      <td>-21.9110</td>\n",
       "      <td>101.20</td>\n",
       "      <td>22</td>\n",
       "      <td>48</td>\n",
       "      <td>-0.500000</td>\n",
       "      <td>0.866025</td>\n",
       "      <td>1</td>\n",
       "      <td>3</td>\n",
       "      <td>7</td>\n",
       "    </tr>\n",
       "    <tr>\n",
       "      <th>697648</th>\n",
       "      <td>2004-03-04 05:44:00</td>\n",
       "      <td>29</td>\n",
       "      <td>0</td>\n",
       "      <td>17.7340</td>\n",
       "      <td>0.46</td>\n",
       "      <td>5</td>\n",
       "      <td>290</td>\n",
       "      <td>0.965926</td>\n",
       "      <td>0.258819</td>\n",
       "      <td>6</td>\n",
       "      <td>0</td>\n",
       "      <td>25</td>\n",
       "    </tr>\n",
       "    <tr>\n",
       "      <th>592299</th>\n",
       "      <td>2004-03-02 15:49:30</td>\n",
       "      <td>6</td>\n",
       "      <td>0</td>\n",
       "      <td>22.4090</td>\n",
       "      <td>566.72</td>\n",
       "      <td>15</td>\n",
       "      <td>60</td>\n",
       "      <td>-0.707107</td>\n",
       "      <td>-0.707107</td>\n",
       "      <td>2</td>\n",
       "      <td>0</td>\n",
       "      <td>8</td>\n",
       "    </tr>\n",
       "    <tr>\n",
       "      <th>495420</th>\n",
       "      <td>2004-03-04 00:30:00</td>\n",
       "      <td>29</td>\n",
       "      <td>0</td>\n",
       "      <td>19.9880</td>\n",
       "      <td>23.00</td>\n",
       "      <td>0</td>\n",
       "      <td>290</td>\n",
       "      <td>0.000000</td>\n",
       "      <td>1.000000</td>\n",
       "      <td>6</td>\n",
       "      <td>0</td>\n",
       "      <td>25</td>\n",
       "    </tr>\n",
       "    <tr>\n",
       "      <th>134821</th>\n",
       "      <td>2004-03-04 19:30:30</td>\n",
       "      <td>29</td>\n",
       "      <td>0</td>\n",
       "      <td>22.1500</td>\n",
       "      <td>187.68</td>\n",
       "      <td>19</td>\n",
       "      <td>290</td>\n",
       "      <td>-0.965926</td>\n",
       "      <td>0.258819</td>\n",
       "      <td>6</td>\n",
       "      <td>0</td>\n",
       "      <td>25</td>\n",
       "    </tr>\n",
       "    <tr>\n",
       "      <th>181304</th>\n",
       "      <td>2004-03-06 22:52:00</td>\n",
       "      <td>34</td>\n",
       "      <td>0</td>\n",
       "      <td>21.2526</td>\n",
       "      <td>64.40</td>\n",
       "      <td>22</td>\n",
       "      <td>340</td>\n",
       "      <td>-0.500000</td>\n",
       "      <td>0.866025</td>\n",
       "      <td>8</td>\n",
       "      <td>0</td>\n",
       "      <td>33</td>\n",
       "    </tr>\n",
       "  </tbody>\n",
       "</table>\n",
       "</div>"
      ],
      "text/plain": [
       "                 timestamp  mote_id  has_fault_type  temperature   light  \\\n",
       "791688 2004-03-01 21:24:00        6               0      20.4390   20.24   \n",
       "578747 2004-03-04 22:53:30        4               8     -21.9110  101.20   \n",
       "697648 2004-03-04 05:44:00       29               0      17.7340    0.46   \n",
       "592299 2004-03-02 15:49:30        6               0      22.4090  566.72   \n",
       "495420 2004-03-04 00:30:00       29               0      19.9880   23.00   \n",
       "134821 2004-03-04 19:30:30       29               0      22.1500  187.68   \n",
       "181304 2004-03-06 22:52:00       34               0      21.2526   64.40   \n",
       "\n",
       "        hour_of_day  mote_fault  hour_sin  hour_cos  mote_id_encoded  \\\n",
       "791688           21          60 -0.707107  0.707107                2   \n",
       "578747           22          48 -0.500000  0.866025                1   \n",
       "697648            5         290  0.965926  0.258819                6   \n",
       "592299           15          60 -0.707107 -0.707107                2   \n",
       "495420            0         290  0.000000  1.000000                6   \n",
       "134821           19         290 -0.965926  0.258819                6   \n",
       "181304           22         340 -0.500000  0.866025                8   \n",
       "\n",
       "        fault_type_encoded  mote_fault_encoded  \n",
       "791688                   0                   8  \n",
       "578747                   3                   7  \n",
       "697648                   0                  25  \n",
       "592299                   0                   8  \n",
       "495420                   0                  25  \n",
       "134821                   0                  25  \n",
       "181304                   0                  33  "
      ]
     },
     "execution_count": 56,
     "metadata": {},
     "output_type": "execute_result"
    }
   ],
   "source": [
    "all_data.sample(7)"
   ]
  },
  {
   "cell_type": "markdown",
   "id": "ae7e58ea",
   "metadata": {},
   "source": [
    "## Feature Selection & Preparation"
   ]
  },
  {
   "cell_type": "code",
   "execution_count": 58,
   "id": "3b4e59ec",
   "metadata": {},
   "outputs": [],
   "source": [
    "scaler_temp = MinMaxScaler(feature_range=(-1,1))\n",
    "all_data[\"temperature_scaled\"] = scaler_temp.fit_transform(all_data[[\"temperature\"]])"
   ]
  },
  {
   "cell_type": "code",
   "execution_count": 60,
   "id": "e454dcef",
   "metadata": {},
   "outputs": [],
   "source": [
    "selected_features = [\"temperature_scaled\",\"mote_id_encoded\"]\n",
    "pred_data = all_data[selected_features]"
   ]
  },
  {
   "cell_type": "code",
   "execution_count": 68,
   "id": "656b31ea",
   "metadata": {},
   "outputs": [],
   "source": [
    "# Turning the dataset into sequence array appropriate for time-forecasting\n",
    "window_size = config[\"window_size\"]\n",
    "horizon = config[\"forecast_horizon\"]\n",
    "X_encoder_num, X_encoder_cat, X_decoder_input_num,X_decoder_input_cat, y_decoder_output = create_sequence(pred_data,\"mote_id_encoded\", window_size, horizon)\n"
   ]
  },
  {
   "cell_type": "code",
   "execution_count": 69,
   "id": "05faa86f",
   "metadata": {},
   "outputs": [
    {
     "name": "stdout",
     "output_type": "stream",
     "text": [
      "Shape of X_encoder_numerical: (1007890, 8, 1)\n",
      "Shape of X_encoder_categorical: (1007890, 8, 3)\n",
      "Shape of X_decoder_input_numerical (lagged temp): (1007890, 4, 1)\n",
      "Shape of X_decoder_input_categorical: (1007890, 4, 3)\n",
      "Shape of y_decoder_output: (1007890, 4, 1)\n"
     ]
    }
   ],
   "source": [
    "print(\"Shape of X_encoder_numerical:\", X_encoder_num.shape)\n",
    "print(\"Shape of X_encoder_categorical:\", X_encoder_cat.shape)\n",
    "print(\"Shape of X_decoder_input_numerical (lagged temp):\", X_decoder_input_num.shape)\n",
    "print(\"Shape of X_decoder_input_categorical:\", X_decoder_input_cat.shape)\n",
    "print(\"Shape of y_decoder_output:\", y_decoder_output.shape)"
   ]
  },
  {
   "cell_type": "code",
   "execution_count": null,
   "id": "2111cb77",
   "metadata": {},
   "outputs": [],
   "source": [
    "split_idx_train = int(len(X_encode_num) * 0.8)\n",
    "split_idx_val = int(len(X_encode_num) * 0.9)\n",
    "\n",
    "X_enc_tem_train, X_enc_cat_train, X_dec_tem_train, X_dec_cat_train, y_dec_train = \\\n",
    "                        X_encoder_num[:split_idx_train], X_encoder_cat[:split_idx_train], \\\n",
    "                        X_decoder_input_num[:split_idx_train],X_decoder_input_cat[:split_idx_train], \\\n",
    "                        y_decoder_output[:split_idx_train]\n",
    "\n",
    "X_enc_tem_valid, X_enc_cat_valid, X_dec_tem_valid, X_dec_cat_valid, y_dec_valid = \\\n",
    "                       X_encoder_num[split_idx_train:split_idx_val], X_encoder_cat[split_idx_train:split_idx_val], \\\n",
    "                       X_decoder_input_num[split_idx_train:split_idx_val],X_decoder_input_cat[split_idx_train:split_idx_val], \\\n",
    "                       y_decoder_output[split_idx_train:split_idx_val]\n",
    "\n",
    "X_enc_tem_test, X_enc_cat_test, X_dec_tem_test, X_dec_cat_test, y_dec_test  = \\\n",
    "                    X_encoder_num[split_idx_val:], X_encoder_cat[split_idx_val:], \\\n",
    "                    X_decoder_input_num[split_idx_val:],X_decoder_input_cat[split_idx_val:], \\\n",
    "                    y_decoder_output[split_idx_val:]\n",
    "\n"
   ]
  },
  {
   "cell_type": "code",
   "execution_count": null,
   "id": "177ad321",
   "metadata": {},
   "outputs": [],
   "source": [
    "# saving\n",
    "np.save(config[\"X_enc_tem_train_path\"], X_enc_tem_train)\n",
    "np.save(config[\"X_enc_cat_train_path\"], X_enc_cat_train)\n",
    "np.save(config[\"X_dec_tem_train_path\"], X_dec_tem_train)\n",
    "np.save(config[\"X_dec_cat_train_path\"], X_dec_cat_train)\n",
    "np.save(config[\"y_dec_train_path\"], y_dec_train)\n",
    "\n",
    "np.save(config[\"X_enc_tem_valid_path\"], X_enc_tem_valid)\n",
    "np.save(config[\"X_enc_cat_valid_path\"], X_enc_cat_valid)\n",
    "np.save(config[\"X_dec_tem_valid_path\"], X_dec_tem_valid)\n",
    "np.save(config[\"X_dec_cat_valid_path\"], X_dec_cat_valid)\n",
    "np.save(config[\"y_dec_valid_path\"], y_dec_valid)\n",
    "\n",
    "np.save(config[\"X_enc_tem_test_path\"], X_enc_tem_test)\n",
    "np.save(config[\"X_enc_cat_test_path\"], X_enc_cat_test)\n",
    "np.save(config[\"X_dec_tem_test_path\"], X_dec_tem_test)\n",
    "np.save(config[\"X_dec_cat_test_path\"], X_dec_cat_test)\n",
    "np.save(config[\"y_dec_test_path\"], y_dec_test)"
   ]
  },
  {
   "cell_type": "code",
   "execution_count": null,
   "id": "effee1ed",
   "metadata": {},
   "outputs": [],
   "source": []
  },
  {
   "cell_type": "markdown",
   "id": "d188ec5e",
   "metadata": {},
   "source": [
    "# EDA, Preprocessing and Feature Engineering for the CNN-MLP System Data"
   ]
  },
  {
   "cell_type": "code",
   "execution_count": null,
   "id": "1a11f058",
   "metadata": {},
   "outputs": [],
   "source": [
    "merged_data = merge_dataset(data)\n",
    "merged_data.shape[0]"
   ]
  },
  {
   "cell_type": "code",
   "execution_count": null,
   "id": "3cd70e71",
   "metadata": {},
   "outputs": [],
   "source": [
    "merged_data.head()"
   ]
  },
  {
   "cell_type": "code",
   "execution_count": null,
   "id": "68865ead",
   "metadata": {},
   "outputs": [],
   "source": [
    "cls_data = merged_data.drop([\"timestamp\", \"mote_id\", \"light\"], axis=1)"
   ]
  },
  {
   "cell_type": "code",
   "execution_count": null,
   "id": "473a3e51",
   "metadata": {},
   "outputs": [],
   "source": [
    "cls_data.isna().sum()"
   ]
  },
  {
   "cell_type": "code",
   "execution_count": null,
   "id": "70578a80",
   "metadata": {},
   "outputs": [],
   "source": [
    "print(cls_data.duplicated().sum())\n",
    "cls_data[cls_data.duplicated()].head(10)"
   ]
  },
  {
   "cell_type": "code",
   "execution_count": null,
   "id": "23ac5c5f",
   "metadata": {},
   "outputs": [],
   "source": [
    "cls_data[\"has_fault_type\"].unique()\n",
    "# 0 ==> no fault, 4 ==> bias, 8 ==> drift, 16 ==> poly drift,  1 ==> random"
   ]
  },
  {
   "cell_type": "code",
   "execution_count": null,
   "id": "42265cd9",
   "metadata": {},
   "outputs": [],
   "source": [
    "# re-numbering the 'has_fault_type' column\n",
    "mapping = {0: 0, 1: 1, 4: 2, 8: 3, 16: 4}\n",
    "cls_data[\"has_fault_type\"] = cls_data[\"has_fault_type\"].map(mapping)"
   ]
  },
  {
   "cell_type": "code",
   "execution_count": null,
   "id": "3b671505",
   "metadata": {},
   "outputs": [],
   "source": [
    "cls_data[\"has_fault_type\"].unique()\n",
    "# 0 ==> no fault, 2 ==> bias, 3 ==> drift, 4 ==> poly drift,  1 ==> random"
   ]
  },
  {
   "cell_type": "code",
   "execution_count": null,
   "id": "0c827383",
   "metadata": {},
   "outputs": [],
   "source": [
    "cls_data[\"has_fault_type\"].value_counts()"
   ]
  },
  {
   "cell_type": "code",
   "execution_count": null,
   "id": "1470e521",
   "metadata": {},
   "outputs": [],
   "source": [
    "cls_data[\"has_fault_type\"].value_counts(normalize=True)"
   ]
  },
  {
   "cell_type": "markdown",
   "id": "e2cc89d7",
   "metadata": {},
   "source": [
    "As seen above, the \"*no fault*\" class contribules to more that 80% of the data. SMOTE techqune is applied to balance the data"
   ]
  },
  {
   "cell_type": "code",
   "execution_count": null,
   "id": "615ac27a",
   "metadata": {},
   "outputs": [],
   "source": [
    "X = cls_data[\"temperature\"].values.reshape(-1, 1)\n",
    "y = cls_data[\"has_fault_type\"]\n",
    "y = y.astype(int)"
   ]
  },
  {
   "cell_type": "code",
   "execution_count": null,
   "id": "4103b6bd",
   "metadata": {},
   "outputs": [],
   "source": [
    "y.dtype"
   ]
  },
  {
   "cell_type": "code",
   "execution_count": null,
   "id": "4e290254",
   "metadata": {},
   "outputs": [],
   "source": [
    "# SMOTE\n",
    "blsmote = BorderlineSMOTE(sampling_strategy=\"not majority\", kind=\"borderline-1\", random_state=42)\n",
    "X_resampled, y_resampled = blsmote.fit_resample(X, y)\n",
    "y_resampled.value_counts()"
   ]
  },
  {
   "cell_type": "code",
   "execution_count": null,
   "id": "7800a9fd",
   "metadata": {},
   "outputs": [],
   "source": [
    "# split to train, val, test\n",
    "# convert this to a numpy array\n",
    "y_resampled= y_resampled.values\n",
    "\n",
    "X_train, X_temp, y_train, y_temp = train_test_split(X_resampled, y_resampled, test_size= 0.3,\n",
    "                                                   stratify=y_resampled, random_state=42)\n",
    "X_val, X_test, y_val, y_test = train_test_split(X_temp, y_temp, test_size=0.33, stratify=y_temp, random_state=42 )"
   ]
  },
  {
   "cell_type": "code",
   "execution_count": null,
   "id": "145e8d9d",
   "metadata": {},
   "outputs": [],
   "source": [
    "# standardize data\n",
    "scaler = StandardScaler()\n",
    "X_train = scaler.fit_transform(X_train)\n",
    "X_val = scaler.transform(X_val)\n",
    "X_test = scaler.transform(X_test)\n",
    "\n",
    "X_train.shape, y_train.shape, X_val.shape, y_val.shape, X_test.shape, y_test.shape"
   ]
  },
  {
   "cell_type": "code",
   "execution_count": null,
   "id": "674975f9",
   "metadata": {},
   "outputs": [],
   "source": [
    "y_train = y_train.reshape(-1, 1)\n",
    "y_val = y_val.reshape(-1, 1)\n",
    "y_test = y_test.reshape(-1, 1)\n",
    "X_train.shape, y_train.shape, X_val.shape, y_val.shape, X_test.shape, y_test.shape"
   ]
  },
  {
   "cell_type": "code",
   "execution_count": null,
   "id": "101c320b",
   "metadata": {},
   "outputs": [],
   "source": [
    "total = len(X_resampled)\n",
    "print(f\"Train: {len(X_train)/total:.2f}\")\n",
    "print(f\"Val:   {len(X_val)/total:.2f}\")\n",
    "print(f\"Test:  {len(X_test)/total:.2f}\")"
   ]
  },
  {
   "cell_type": "code",
   "execution_count": null,
   "id": "3b1651c2",
   "metadata": {},
   "outputs": [],
   "source": [
    "# saving\n",
    "np.save(config[\"cls_X_train_path\"], X_train)\n",
    "np.save(config[\"cls_y_train_path\"], y_train)\n",
    "\n",
    "np.save(config[\"cls_X_val_path\"], X_val)\n",
    "np.save(config[\"cls_y_val_path\"], y_val)\n",
    "\n",
    "np.save(config[\"cls_X_test_path\"], X_test)\n",
    "np.save(config[\"cls_y_test_path\"], y_test)"
   ]
  },
  {
   "cell_type": "markdown",
   "id": "d5a30a64",
   "metadata": {},
   "source": [
    "Done, for now"
   ]
  }
 ],
 "metadata": {
  "kernelspec": {
   "display_name": "Python 3 (ipykernel)",
   "language": "python",
   "name": "python3"
  },
  "language_info": {
   "codemirror_mode": {
    "name": "ipython",
    "version": 3
   },
   "file_extension": ".py",
   "mimetype": "text/x-python",
   "name": "python",
   "nbconvert_exporter": "python",
   "pygments_lexer": "ipython3",
   "version": "3.9.13"
  }
 },
 "nbformat": 4,
 "nbformat_minor": 5
}
